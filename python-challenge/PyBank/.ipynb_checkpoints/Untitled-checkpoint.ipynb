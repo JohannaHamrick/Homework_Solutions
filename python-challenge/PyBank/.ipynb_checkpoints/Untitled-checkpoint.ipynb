{
 "cells": [
  {
   "cell_type": "code",
   "execution_count": 5,
   "metadata": {},
   "outputs": [],
   "source": [
    "import os\n",
    "import csv"
   ]
  },
  {
   "cell_type": "code",
   "execution_count": 19,
   "metadata": {},
   "outputs": [
    {
     "ename": "SyntaxError",
     "evalue": "EOL while scanning string literal (<ipython-input-19-9f9053a55ecb>, line 1)",
     "output_type": "error",
     "traceback": [
      "\u001b[0;36m  File \u001b[0;32m\"<ipython-input-19-9f9053a55ecb>\"\u001b[0;36m, line \u001b[0;32m1\u001b[0m\n\u001b[0;31m    budget_data = os.path.join(\"Users/Desktop/Homework_Solutions/python-challenge/PyBank/budget_data.csv)\u001b[0m\n\u001b[0m                                                                                                         ^\u001b[0m\n\u001b[0;31mSyntaxError\u001b[0m\u001b[0;31m:\u001b[0m EOL while scanning string literal\n"
     ]
    }
   ],
   "source": [
    "budget_data = os.path.join(\"Users/Desktop/Homework_Solutions/python-challenge/PyBank/budget_data.csv)\n",
    "\n",
    "with open('budget_data.csv', newline=\"\") as csv.file:\n",
    "   csv_reader = csv.reader(csvfile, delimiter=\",\")\n"
   ]
  },
  {
   "cell_type": "code",
   "execution_count": 6,
   "metadata": {},
   "outputs": [],
   "source": [
    "\n",
    "#The total number of months included in the dataset\n",
    "months = []\n",
    "\n",
    "#The total net amount of \"Profit/Losses\" over the entire period\n",
    "total_net_amount = 0\n",
    "\n",
    "#The average change in \"Profit/Losses\" between months over the entire period\n",
    "average_change_profit = 0\n",
    "\n",
    "#The greatest increase in profits (date and amount) over the entire period\n",
    "greatest_increase_profits = 0\n",
    "\n",
    "#The greatest decrease in losses (date and amount) over the entire period\n",
    "greatest_decrease_profits = 0"
   ]
  },
  {
   "cell_type": "code",
   "execution_count": null,
   "metadata": {},
   "outputs": [],
   "source": []
  },
  {
   "cell_type": "code",
   "execution_count": null,
   "metadata": {},
   "outputs": [],
   "source": []
  }
 ],
 "metadata": {
  "kernelspec": {
   "display_name": "Python 3",
   "language": "python",
   "name": "python3"
  },
  "language_info": {
   "codemirror_mode": {
    "name": "ipython",
    "version": 3
   },
   "file_extension": ".py",
   "mimetype": "text/x-python",
   "name": "python",
   "nbconvert_exporter": "python",
   "pygments_lexer": "ipython3",
   "version": "3.6.5"
  }
 },
 "nbformat": 4,
 "nbformat_minor": 2
}
